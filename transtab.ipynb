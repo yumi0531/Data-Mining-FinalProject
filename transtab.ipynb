{
 "cells": [
  {
   "cell_type": "code",
   "execution_count": null,
   "metadata": {
    "_cell_guid": "b1076dfc-b9ad-4769-8c92-a6c4dae69d19",
    "_uuid": "8f2839f25d086af736a60e9eeb907d3b93b6e0e5",
    "execution": {
     "iopub.execute_input": "2025-06-06T18:12:16.695243Z",
     "iopub.status.busy": "2025-06-06T18:12:16.695030Z",
     "iopub.status.idle": "2025-06-06T18:12:33.320348Z",
     "shell.execute_reply": "2025-06-06T18:12:33.319459Z",
     "shell.execute_reply.started": "2025-06-06T18:12:16.695219Z"
    },
    "trusted": true
   },
   "outputs": [
    {
     "name": "stdout",
     "output_type": "stream",
     "text": [
      "Collecting git+https://github.com/RyanWangZf/transtab.git\n",
      "  Cloning https://github.com/RyanWangZf/transtab.git to /tmp/pip-req-build-9y5iha8a\n",
      "  Running command git clone --filter=blob:none --quiet https://github.com/RyanWangZf/transtab.git /tmp/pip-req-build-9y5iha8a\n",
      "  Resolved https://github.com/RyanWangZf/transtab.git to commit fdb34cf38abda73ee6a741b802fe226cc89ba7b5\n",
      "  Preparing metadata (setup.py) ... \u001b[?25l\u001b[?25hdone\n",
      "Requirement already satisfied: numpy in /usr/local/lib/python3.11/dist-packages (from transtab==0.0.7) (1.26.4)\n",
      "Requirement already satisfied: scikit_learn in /usr/local/lib/python3.11/dist-packages (from transtab==0.0.7) (1.2.2)\n",
      "Requirement already satisfied: setuptools in /usr/local/lib/python3.11/dist-packages (from transtab==0.0.7) (75.2.0)\n",
      "Collecting transformers<=4.30.0 (from transtab==0.0.7)\n",
      "  Downloading transformers-4.30.0-py3-none-any.whl.metadata (113 kB)\n",
      "\u001b[2K     \u001b[90m━━━━━━━━━━━━━━━━━━━━━━━━━━━━━━━━━━━━━━━━\u001b[0m \u001b[32m113.6/113.6 kB\u001b[0m \u001b[31m3.6 MB/s\u001b[0m eta \u001b[36m0:00:00\u001b[0m\n",
      "\u001b[?25hRequirement already satisfied: tqdm in /usr/local/lib/python3.11/dist-packages (from transtab==0.0.7) (4.67.1)\n",
      "Requirement already satisfied: pandas>=1.3.0 in /usr/local/lib/python3.11/dist-packages (from transtab==0.0.7) (2.2.3)\n",
      "Collecting openml>=0.10.0 (from transtab==0.0.7)\n",
      "  Downloading openml-0.15.1-py3-none-any.whl.metadata (10 kB)\n",
      "Collecting liac-arff>=2.4.0 (from openml>=0.10.0->transtab==0.0.7)\n",
      "  Downloading liac-arff-2.5.0.tar.gz (13 kB)\n",
      "  Preparing metadata (setup.py) ... \u001b[?25l\u001b[?25hdone\n",
      "Collecting xmltodict (from openml>=0.10.0->transtab==0.0.7)\n",
      "  Downloading xmltodict-0.14.2-py2.py3-none-any.whl.metadata (8.0 kB)\n",
      "Requirement already satisfied: requests in /usr/local/lib/python3.11/dist-packages (from openml>=0.10.0->transtab==0.0.7) (2.32.3)\n",
      "Requirement already satisfied: python-dateutil in /usr/local/lib/python3.11/dist-packages (from openml>=0.10.0->transtab==0.0.7) (2.9.0.post0)\n",
      "Requirement already satisfied: scipy>=0.13.3 in /usr/local/lib/python3.11/dist-packages (from openml>=0.10.0->transtab==0.0.7) (1.15.2)\n",
      "Collecting minio (from openml>=0.10.0->transtab==0.0.7)\n",
      "  Downloading minio-7.2.15-py3-none-any.whl.metadata (6.7 kB)\n",
      "Requirement already satisfied: pyarrow in /usr/local/lib/python3.11/dist-packages (from openml>=0.10.0->transtab==0.0.7) (19.0.1)\n",
      "Requirement already satisfied: packaging in /usr/local/lib/python3.11/dist-packages (from openml>=0.10.0->transtab==0.0.7) (25.0)\n",
      "Requirement already satisfied: mkl_fft in /usr/local/lib/python3.11/dist-packages (from numpy->transtab==0.0.7) (1.3.8)\n",
      "Requirement already satisfied: mkl_random in /usr/local/lib/python3.11/dist-packages (from numpy->transtab==0.0.7) (1.2.4)\n",
      "Requirement already satisfied: mkl_umath in /usr/local/lib/python3.11/dist-packages (from numpy->transtab==0.0.7) (0.1.1)\n",
      "Requirement already satisfied: mkl in /usr/local/lib/python3.11/dist-packages (from numpy->transtab==0.0.7) (2025.1.0)\n",
      "Requirement already satisfied: tbb4py in /usr/local/lib/python3.11/dist-packages (from numpy->transtab==0.0.7) (2022.1.0)\n",
      "Requirement already satisfied: mkl-service in /usr/local/lib/python3.11/dist-packages (from numpy->transtab==0.0.7) (2.4.1)\n",
      "Requirement already satisfied: pytz>=2020.1 in /usr/local/lib/python3.11/dist-packages (from pandas>=1.3.0->transtab==0.0.7) (2025.2)\n",
      "Requirement already satisfied: tzdata>=2022.7 in /usr/local/lib/python3.11/dist-packages (from pandas>=1.3.0->transtab==0.0.7) (2025.2)\n",
      "Requirement already satisfied: joblib>=1.1.1 in /usr/local/lib/python3.11/dist-packages (from scikit_learn->transtab==0.0.7) (1.5.0)\n",
      "Requirement already satisfied: threadpoolctl>=2.0.0 in /usr/local/lib/python3.11/dist-packages (from scikit_learn->transtab==0.0.7) (3.6.0)\n",
      "Requirement already satisfied: filelock in /usr/local/lib/python3.11/dist-packages (from transformers<=4.30.0->transtab==0.0.7) (3.18.0)\n",
      "Requirement already satisfied: huggingface-hub<1.0,>=0.14.1 in /usr/local/lib/python3.11/dist-packages (from transformers<=4.30.0->transtab==0.0.7) (0.31.1)\n",
      "Requirement already satisfied: pyyaml>=5.1 in /usr/local/lib/python3.11/dist-packages (from transformers<=4.30.0->transtab==0.0.7) (6.0.2)\n",
      "Requirement already satisfied: regex!=2019.12.17 in /usr/local/lib/python3.11/dist-packages (from transformers<=4.30.0->transtab==0.0.7) (2024.11.6)\n",
      "Collecting tokenizers!=0.11.3,<0.14,>=0.11.1 (from transformers<=4.30.0->transtab==0.0.7)\n",
      "  Downloading tokenizers-0.13.3-cp311-cp311-manylinux_2_17_x86_64.manylinux2014_x86_64.whl.metadata (6.7 kB)\n",
      "Requirement already satisfied: safetensors>=0.3.1 in /usr/local/lib/python3.11/dist-packages (from transformers<=4.30.0->transtab==0.0.7) (0.5.3)\n",
      "Requirement already satisfied: fsspec>=2023.5.0 in /usr/local/lib/python3.11/dist-packages (from huggingface-hub<1.0,>=0.14.1->transformers<=4.30.0->transtab==0.0.7) (2025.3.2)\n",
      "Requirement already satisfied: typing-extensions>=3.7.4.3 in /usr/local/lib/python3.11/dist-packages (from huggingface-hub<1.0,>=0.14.1->transformers<=4.30.0->transtab==0.0.7) (4.13.2)\n",
      "Requirement already satisfied: hf-xet<2.0.0,>=1.1.0 in /usr/local/lib/python3.11/dist-packages (from huggingface-hub<1.0,>=0.14.1->transformers<=4.30.0->transtab==0.0.7) (1.1.0)\n",
      "Requirement already satisfied: six>=1.5 in /usr/local/lib/python3.11/dist-packages (from python-dateutil->openml>=0.10.0->transtab==0.0.7) (1.17.0)\n",
      "Requirement already satisfied: certifi in /usr/local/lib/python3.11/dist-packages (from minio->openml>=0.10.0->transtab==0.0.7) (2025.4.26)\n",
      "Requirement already satisfied: urllib3 in /usr/local/lib/python3.11/dist-packages (from minio->openml>=0.10.0->transtab==0.0.7) (2.4.0)\n",
      "Requirement already satisfied: argon2-cffi in /usr/local/lib/python3.11/dist-packages (from minio->openml>=0.10.0->transtab==0.0.7) (23.1.0)\n",
      "Requirement already satisfied: pycryptodome in /usr/local/lib/python3.11/dist-packages (from minio->openml>=0.10.0->transtab==0.0.7) (3.22.0)\n",
      "Requirement already satisfied: intel-openmp<2026,>=2024 in /usr/local/lib/python3.11/dist-packages (from mkl->numpy->transtab==0.0.7) (2024.2.0)\n",
      "Requirement already satisfied: tbb==2022.* in /usr/local/lib/python3.11/dist-packages (from mkl->numpy->transtab==0.0.7) (2022.1.0)\n",
      "Requirement already satisfied: tcmlib==1.* in /usr/local/lib/python3.11/dist-packages (from tbb==2022.*->mkl->numpy->transtab==0.0.7) (1.3.0)\n",
      "Requirement already satisfied: intel-cmplr-lib-rt in /usr/local/lib/python3.11/dist-packages (from mkl_umath->numpy->transtab==0.0.7) (2024.2.0)\n",
      "Requirement already satisfied: charset-normalizer<4,>=2 in /usr/local/lib/python3.11/dist-packages (from requests->openml>=0.10.0->transtab==0.0.7) (3.4.2)\n",
      "Requirement already satisfied: idna<4,>=2.5 in /usr/local/lib/python3.11/dist-packages (from requests->openml>=0.10.0->transtab==0.0.7) (3.10)\n",
      "Requirement already satisfied: intel-cmplr-lib-ur==2024.2.0 in /usr/local/lib/python3.11/dist-packages (from intel-openmp<2026,>=2024->mkl->numpy->transtab==0.0.7) (2024.2.0)\n",
      "Requirement already satisfied: argon2-cffi-bindings in /usr/local/lib/python3.11/dist-packages (from argon2-cffi->minio->openml>=0.10.0->transtab==0.0.7) (21.2.0)\n",
      "Requirement already satisfied: cffi>=1.0.1 in /usr/local/lib/python3.11/dist-packages (from argon2-cffi-bindings->argon2-cffi->minio->openml>=0.10.0->transtab==0.0.7) (1.17.1)\n",
      "Requirement already satisfied: pycparser in /usr/local/lib/python3.11/dist-packages (from cffi>=1.0.1->argon2-cffi-bindings->argon2-cffi->minio->openml>=0.10.0->transtab==0.0.7) (2.22)\n",
      "Downloading openml-0.15.1-py3-none-any.whl (160 kB)\n",
      "\u001b[2K   \u001b[90m━━━━━━━━━━━━━━━━━━━━━━━━━━━━━━━━━━━━━━━━\u001b[0m \u001b[32m160.4/160.4 kB\u001b[0m \u001b[31m7.6 MB/s\u001b[0m eta \u001b[36m0:00:00\u001b[0m\n",
      "\u001b[?25hDownloading transformers-4.30.0-py3-none-any.whl (7.2 MB)\n",
      "\u001b[2K   \u001b[90m━━━━━━━━━━━━━━━━━━━━━━━━━━━━━━━━━━━━━━━━\u001b[0m \u001b[32m7.2/7.2 MB\u001b[0m \u001b[31m75.2 MB/s\u001b[0m eta \u001b[36m0:00:00\u001b[0m:00:01\u001b[0m0:01\u001b[0m\n",
      "\u001b[?25hDownloading tokenizers-0.13.3-cp311-cp311-manylinux_2_17_x86_64.manylinux2014_x86_64.whl (7.8 MB)\n",
      "\u001b[2K   \u001b[90m━━━━━━━━━━━━━━━━━━━━━━━━━━━━━━━━━━━━━━━━\u001b[0m \u001b[32m7.8/7.8 MB\u001b[0m \u001b[31m104.8 MB/s\u001b[0m eta \u001b[36m0:00:00\u001b[0m00:01\u001b[0m00:01\u001b[0m\n",
      "\u001b[?25hDownloading minio-7.2.15-py3-none-any.whl (95 kB)\n",
      "\u001b[2K   \u001b[90m━━━━━━━━━━━━━━━━━━━━━━━━━━━━━━━━━━━━━━━━\u001b[0m \u001b[32m95.1/95.1 kB\u001b[0m \u001b[31m7.9 MB/s\u001b[0m eta \u001b[36m0:00:00\u001b[0m\n",
      "\u001b[?25hDownloading xmltodict-0.14.2-py2.py3-none-any.whl (10.0 kB)\n",
      "Building wheels for collected packages: transtab, liac-arff\n",
      "  Building wheel for transtab (setup.py) ... \u001b[?25l\u001b[?25hdone\n",
      "  Created wheel for transtab: filename=transtab-0.0.7-py3-none-any.whl size=29809 sha256=cbfc1a20fecfe37313bbc682c7624f3919b0b96586716fcaeafd2d1df303a947\n",
      "  Stored in directory: /tmp/pip-ephem-wheel-cache-30k8ile1/wheels/f4/19/71/b61b22a69ba3287d602aa346955d4b3cebfe20dafed97a43a4\n",
      "  Building wheel for liac-arff (setup.py) ... \u001b[?25l\u001b[?25hdone\n",
      "  Created wheel for liac-arff: filename=liac_arff-2.5.0-py3-none-any.whl size=11717 sha256=e08d26f0c0fc6357095910580f5490006234c370769c37513b0a7646c7e85569\n",
      "  Stored in directory: /root/.cache/pip/wheels/00/23/31/5e562fce1f95aabe57f2a7320d07433ba1cd152bcde2f6a002\n",
      "Successfully built transtab liac-arff\n",
      "Installing collected packages: tokenizers, xmltodict, liac-arff, minio, transformers, openml, transtab\n",
      "  Attempting uninstall: tokenizers\n",
      "    Found existing installation: tokenizers 0.21.1\n",
      "    Uninstalling tokenizers-0.21.1:\n",
      "      Successfully uninstalled tokenizers-0.21.1\n",
      "  Attempting uninstall: transformers\n",
      "    Found existing installation: transformers 4.51.3\n",
      "    Uninstalling transformers-4.51.3:\n",
      "      Successfully uninstalled transformers-4.51.3\n",
      "\u001b[31mERROR: pip's dependency resolver does not currently take into account all the packages that are installed. This behaviour is the source of the following dependency conflicts.\n",
      "kaggle-environments 1.16.11 requires transformers>=4.33.1, but you have transformers 4.30.0 which is incompatible.\n",
      "sentence-transformers 3.4.1 requires transformers<5.0.0,>=4.41.0, but you have transformers 4.30.0 which is incompatible.\u001b[0m\u001b[31m\n",
      "\u001b[0mSuccessfully installed liac-arff-2.5.0 minio-7.2.15 openml-0.15.1 tokenizers-0.13.3 transformers-4.30.0 transtab-0.0.7 xmltodict-0.14.2\n"
     ]
    }
   ],
   "source": [
    "!pip install git+https://github.com/RyanWangZf/transtab.git"
   ]
  },
  {
   "cell_type": "code",
   "execution_count": null,
   "metadata": {
    "execution": {
     "iopub.execute_input": "2025-06-06T18:12:33.322105Z",
     "iopub.status.busy": "2025-06-06T18:12:33.321878Z",
     "iopub.status.idle": "2025-06-06T18:12:51.617347Z",
     "shell.execute_reply": "2025-06-06T18:12:51.616805Z",
     "shell.execute_reply.started": "2025-06-06T18:12:33.322083Z"
    },
    "trusted": true
   },
   "outputs": [
    {
     "name": "stderr",
     "output_type": "stream",
     "text": [
      "2025-06-06 18:12:42.644439: E external/local_xla/xla/stream_executor/cuda/cuda_fft.cc:477] Unable to register cuFFT factory: Attempting to register factory for plugin cuFFT when one has already been registered\n",
      "WARNING: All log messages before absl::InitializeLog() is called are written to STDERR\n",
      "E0000 00:00:1749233562.830509      35 cuda_dnn.cc:8310] Unable to register cuDNN factory: Attempting to register factory for plugin cuDNN when one has already been registered\n",
      "E0000 00:00:1749233562.885682      35 cuda_blas.cc:1418] Unable to register cuBLAS factory: Attempting to register factory for plugin cuBLAS when one has already been registered\n"
     ]
    }
   ],
   "source": [
    "import transtab"
   ]
  },
  {
   "cell_type": "code",
   "execution_count": null,
   "metadata": {
    "execution": {
     "iopub.execute_input": "2025-06-06T18:12:51.618497Z",
     "iopub.status.busy": "2025-06-06T18:12:51.618026Z",
     "iopub.status.idle": "2025-06-06T18:12:51.621949Z",
     "shell.execute_reply": "2025-06-06T18:12:51.621279Z",
     "shell.execute_reply.started": "2025-06-06T18:12:51.618478Z"
    },
    "trusted": true
   },
   "outputs": [],
   "source": [
    "dataset = '/kaggle/input/playground-series-s5e6'"
   ]
  },
  {
   "cell_type": "code",
   "execution_count": null,
   "metadata": {
    "execution": {
     "iopub.execute_input": "2025-06-06T18:12:51.622900Z",
     "iopub.status.busy": "2025-06-06T18:12:51.622679Z",
     "iopub.status.idle": "2025-06-06T18:12:51.649987Z",
     "shell.execute_reply": "2025-06-06T18:12:51.649421Z",
     "shell.execute_reply.started": "2025-06-06T18:12:51.622885Z"
    },
    "trusted": true
   },
   "outputs": [],
   "source": [
    "import pandas"
   ]
  },
  {
   "cell_type": "code",
   "execution_count": null,
   "metadata": {
    "execution": {
     "iopub.execute_input": "2025-06-06T18:12:51.651910Z",
     "iopub.status.busy": "2025-06-06T18:12:51.651539Z",
     "iopub.status.idle": "2025-06-06T18:12:52.869048Z",
     "shell.execute_reply": "2025-06-06T18:12:52.868270Z",
     "shell.execute_reply.started": "2025-06-06T18:12:51.651894Z"
    },
    "trusted": true
   },
   "outputs": [
    {
     "data": {
      "text/html": [
       "<div>\n",
       "<style scoped>\n",
       "    .dataframe tbody tr th:only-of-type {\n",
       "        vertical-align: middle;\n",
       "    }\n",
       "\n",
       "    .dataframe tbody tr th {\n",
       "        vertical-align: top;\n",
       "    }\n",
       "\n",
       "    .dataframe thead th {\n",
       "        text-align: right;\n",
       "    }\n",
       "</style>\n",
       "<table border=\"1\" class=\"dataframe\">\n",
       "  <thead>\n",
       "    <tr style=\"text-align: right;\">\n",
       "      <th></th>\n",
       "      <th>Temperature</th>\n",
       "      <th>Humidity</th>\n",
       "      <th>Moisture</th>\n",
       "      <th>Soil Type</th>\n",
       "      <th>Crop Type</th>\n",
       "      <th>Nitrogen</th>\n",
       "      <th>Potassium</th>\n",
       "      <th>Phosphorous</th>\n",
       "      <th>target_label</th>\n",
       "    </tr>\n",
       "  </thead>\n",
       "  <tbody>\n",
       "    <tr>\n",
       "      <th>0</th>\n",
       "      <td>37</td>\n",
       "      <td>70</td>\n",
       "      <td>36</td>\n",
       "      <td>Clayey</td>\n",
       "      <td>Sugarcane</td>\n",
       "      <td>36</td>\n",
       "      <td>4</td>\n",
       "      <td>5</td>\n",
       "      <td>28-28</td>\n",
       "    </tr>\n",
       "    <tr>\n",
       "      <th>1</th>\n",
       "      <td>27</td>\n",
       "      <td>69</td>\n",
       "      <td>65</td>\n",
       "      <td>Sandy</td>\n",
       "      <td>Millets</td>\n",
       "      <td>30</td>\n",
       "      <td>6</td>\n",
       "      <td>18</td>\n",
       "      <td>28-28</td>\n",
       "    </tr>\n",
       "    <tr>\n",
       "      <th>2</th>\n",
       "      <td>29</td>\n",
       "      <td>63</td>\n",
       "      <td>32</td>\n",
       "      <td>Sandy</td>\n",
       "      <td>Millets</td>\n",
       "      <td>24</td>\n",
       "      <td>12</td>\n",
       "      <td>16</td>\n",
       "      <td>17-17-17</td>\n",
       "    </tr>\n",
       "    <tr>\n",
       "      <th>3</th>\n",
       "      <td>35</td>\n",
       "      <td>62</td>\n",
       "      <td>54</td>\n",
       "      <td>Sandy</td>\n",
       "      <td>Barley</td>\n",
       "      <td>39</td>\n",
       "      <td>12</td>\n",
       "      <td>4</td>\n",
       "      <td>10-26-26</td>\n",
       "    </tr>\n",
       "    <tr>\n",
       "      <th>4</th>\n",
       "      <td>35</td>\n",
       "      <td>58</td>\n",
       "      <td>43</td>\n",
       "      <td>Red</td>\n",
       "      <td>Paddy</td>\n",
       "      <td>37</td>\n",
       "      <td>2</td>\n",
       "      <td>16</td>\n",
       "      <td>DAP</td>\n",
       "    </tr>\n",
       "    <tr>\n",
       "      <th>...</th>\n",
       "      <td>...</td>\n",
       "      <td>...</td>\n",
       "      <td>...</td>\n",
       "      <td>...</td>\n",
       "      <td>...</td>\n",
       "      <td>...</td>\n",
       "      <td>...</td>\n",
       "      <td>...</td>\n",
       "      <td>...</td>\n",
       "    </tr>\n",
       "    <tr>\n",
       "      <th>749995</th>\n",
       "      <td>25</td>\n",
       "      <td>69</td>\n",
       "      <td>30</td>\n",
       "      <td>Clayey</td>\n",
       "      <td>Maize</td>\n",
       "      <td>8</td>\n",
       "      <td>16</td>\n",
       "      <td>6</td>\n",
       "      <td>28-28</td>\n",
       "    </tr>\n",
       "    <tr>\n",
       "      <th>749996</th>\n",
       "      <td>37</td>\n",
       "      <td>64</td>\n",
       "      <td>58</td>\n",
       "      <td>Loamy</td>\n",
       "      <td>Sugarcane</td>\n",
       "      <td>38</td>\n",
       "      <td>8</td>\n",
       "      <td>20</td>\n",
       "      <td>17-17-17</td>\n",
       "    </tr>\n",
       "    <tr>\n",
       "      <th>749997</th>\n",
       "      <td>35</td>\n",
       "      <td>68</td>\n",
       "      <td>59</td>\n",
       "      <td>Sandy</td>\n",
       "      <td>Ground Nuts</td>\n",
       "      <td>6</td>\n",
       "      <td>11</td>\n",
       "      <td>29</td>\n",
       "      <td>10-26-26</td>\n",
       "    </tr>\n",
       "    <tr>\n",
       "      <th>749998</th>\n",
       "      <td>31</td>\n",
       "      <td>68</td>\n",
       "      <td>29</td>\n",
       "      <td>Red</td>\n",
       "      <td>Cotton</td>\n",
       "      <td>9</td>\n",
       "      <td>11</td>\n",
       "      <td>12</td>\n",
       "      <td>20-20</td>\n",
       "    </tr>\n",
       "    <tr>\n",
       "      <th>749999</th>\n",
       "      <td>33</td>\n",
       "      <td>55</td>\n",
       "      <td>29</td>\n",
       "      <td>Loamy</td>\n",
       "      <td>Cotton</td>\n",
       "      <td>4</td>\n",
       "      <td>10</td>\n",
       "      <td>9</td>\n",
       "      <td>Urea</td>\n",
       "    </tr>\n",
       "  </tbody>\n",
       "</table>\n",
       "<p>750000 rows × 9 columns</p>\n",
       "</div>"
      ],
      "text/plain": [
       "        Temperature  Humidity  Moisture Soil Type    Crop Type  Nitrogen  \\\n",
       "0                37        70        36    Clayey    Sugarcane        36   \n",
       "1                27        69        65     Sandy      Millets        30   \n",
       "2                29        63        32     Sandy      Millets        24   \n",
       "3                35        62        54     Sandy       Barley        39   \n",
       "4                35        58        43       Red        Paddy        37   \n",
       "...             ...       ...       ...       ...          ...       ...   \n",
       "749995           25        69        30    Clayey        Maize         8   \n",
       "749996           37        64        58     Loamy    Sugarcane        38   \n",
       "749997           35        68        59     Sandy  Ground Nuts         6   \n",
       "749998           31        68        29       Red       Cotton         9   \n",
       "749999           33        55        29     Loamy       Cotton         4   \n",
       "\n",
       "        Potassium  Phosphorous target_label  \n",
       "0               4            5        28-28  \n",
       "1               6           18        28-28  \n",
       "2              12           16     17-17-17  \n",
       "3              12            4     10-26-26  \n",
       "4               2           16          DAP  \n",
       "...           ...          ...          ...  \n",
       "749995         16            6        28-28  \n",
       "749996          8           20     17-17-17  \n",
       "749997         11           29     10-26-26  \n",
       "749998         11           12        20-20  \n",
       "749999         10            9         Urea  \n",
       "\n",
       "[750000 rows x 9 columns]"
      ]
     },
     "execution_count": 5,
     "metadata": {},
     "output_type": "execute_result"
    }
   ],
   "source": [
    "df = pandas.read_csv(f'{dataset}/train.csv').drop(columns='id').rename(columns={\n",
    "    'Temparature': 'Temperature',\n",
    "    'Fertilizer Name': 'target_label'\n",
    "})\n",
    "df"
   ]
  },
  {
   "cell_type": "code",
   "execution_count": null,
   "metadata": {
    "execution": {
     "iopub.execute_input": "2025-06-06T18:12:52.870118Z",
     "iopub.status.busy": "2025-06-06T18:12:52.869867Z",
     "iopub.status.idle": "2025-06-06T18:12:53.311708Z",
     "shell.execute_reply": "2025-06-06T18:12:53.310885Z",
     "shell.execute_reply.started": "2025-06-06T18:12:52.870099Z"
    },
    "trusted": true
   },
   "outputs": [],
   "source": [
    "df['target_label'] = df['target_label'].apply(lambda x: {\n",
    "    '28-28': 0,\n",
    "    '17-17-17': 1,\n",
    "    '10-26-26': 2,\n",
    "    'DAP': 3,\n",
    "    '20-20': 4,\n",
    "    '14-35-14': 5,\n",
    "    'Urea': 6\n",
    "}[x])"
   ]
  },
  {
   "cell_type": "code",
   "execution_count": null,
   "metadata": {
    "execution": {
     "iopub.execute_input": "2025-06-06T18:12:53.312864Z",
     "iopub.status.busy": "2025-06-06T18:12:53.312484Z",
     "iopub.status.idle": "2025-06-06T18:12:53.317311Z",
     "shell.execute_reply": "2025-06-06T18:12:53.316352Z",
     "shell.execute_reply.started": "2025-06-06T18:12:53.312834Z"
    },
    "trusted": true
   },
   "outputs": [],
   "source": [
    "numerical_features = ['Temperature', 'Humidity', 'Moisture', 'Nitrogen', 'Potassium', 'Phosphorous']"
   ]
  },
  {
   "cell_type": "code",
   "execution_count": null,
   "metadata": {
    "execution": {
     "iopub.execute_input": "2025-06-06T18:12:53.318237Z",
     "iopub.status.busy": "2025-06-06T18:12:53.317930Z",
     "iopub.status.idle": "2025-06-06T18:12:53.540866Z",
     "shell.execute_reply": "2025-06-06T18:12:53.539960Z",
     "shell.execute_reply.started": "2025-06-06T18:12:53.318165Z"
    },
    "trusted": true
   },
   "outputs": [],
   "source": [
    "!mkdir dataset"
   ]
  },
  {
   "cell_type": "code",
   "execution_count": null,
   "metadata": {
    "execution": {
     "iopub.execute_input": "2025-06-06T18:12:53.542384Z",
     "iopub.status.busy": "2025-06-06T18:12:53.542086Z",
     "iopub.status.idle": "2025-06-06T18:12:53.546883Z",
     "shell.execute_reply": "2025-06-06T18:12:53.546206Z",
     "shell.execute_reply.started": "2025-06-06T18:12:53.542348Z"
    },
    "trusted": true
   },
   "outputs": [],
   "source": [
    "with open('dataset/numerical_feature.txt', 'w') as file:\n",
    "    file.write('\\n'.join(numerical_features))"
   ]
  },
  {
   "cell_type": "code",
   "execution_count": null,
   "metadata": {
    "execution": {
     "iopub.execute_input": "2025-06-06T18:12:53.548202Z",
     "iopub.status.busy": "2025-06-06T18:12:53.547631Z",
     "iopub.status.idle": "2025-06-06T18:12:53.694368Z",
     "shell.execute_reply": "2025-06-06T18:12:53.693676Z",
     "shell.execute_reply.started": "2025-06-06T18:12:53.548168Z"
    },
    "trusted": true
   },
   "outputs": [
    {
     "name": "stdout",
     "output_type": "stream",
     "text": [
      "Temperature\n",
      "Humidity\n",
      "Moisture\n",
      "Nitrogen\n",
      "Potassium\n",
      "Phosphorous"
     ]
    }
   ],
   "source": [
    "!cat dataset/numerical_feature.txt"
   ]
  },
  {
   "cell_type": "code",
   "execution_count": null,
   "metadata": {
    "execution": {
     "iopub.execute_input": "2025-06-06T18:12:53.695843Z",
     "iopub.status.busy": "2025-06-06T18:12:53.695460Z",
     "iopub.status.idle": "2025-06-06T18:12:55.494050Z",
     "shell.execute_reply": "2025-06-06T18:12:55.493429Z",
     "shell.execute_reply.started": "2025-06-06T18:12:53.695811Z"
    },
    "trusted": true
   },
   "outputs": [],
   "source": [
    "df.to_csv('dataset/data_processed.csv')"
   ]
  },
  {
   "cell_type": "code",
   "execution_count": null,
   "metadata": {
    "execution": {
     "iopub.execute_input": "2025-06-06T18:12:55.495255Z",
     "iopub.status.busy": "2025-06-06T18:12:55.494936Z",
     "iopub.status.idle": "2025-06-06T18:12:55.503649Z",
     "shell.execute_reply": "2025-06-06T18:12:55.503023Z",
     "shell.execute_reply.started": "2025-06-06T18:12:55.495229Z"
    },
    "trusted": true
   },
   "outputs": [],
   "source": [
    "transtab.random_seed(42)"
   ]
  },
  {
   "cell_type": "code",
   "execution_count": null,
   "metadata": {
    "execution": {
     "iopub.execute_input": "2025-06-06T18:12:55.505023Z",
     "iopub.status.busy": "2025-06-06T18:12:55.504490Z",
     "iopub.status.idle": "2025-06-06T18:12:56.707940Z",
     "shell.execute_reply": "2025-06-06T18:12:56.707180Z",
     "shell.execute_reply.started": "2025-06-06T18:12:55.505000Z"
    },
    "trusted": true
   },
   "outputs": [
    {
     "name": "stdout",
     "output_type": "stream",
     "text": [
      "########################################\n",
      "load from local data dir dataset\n"
     ]
    },
    {
     "name": "stderr",
     "output_type": "stream",
     "text": [
      "/usr/local/lib/python3.11/dist-packages/transtab/dataset.py:196: FutureWarning: A value is trying to be set on a copy of a DataFrame or Series through chained assignment using an inplace method.\n",
      "The behavior will change in pandas 3.0. This inplace method will never work because the intermediate object on which we are setting values always behaves as a copy.\n",
      "\n",
      "For example, when doing 'df[col].method(value, inplace=True)', try using 'df.method({col: value}, inplace=True)' or df[col] = df[col].method(value) instead, to perform the operation inplace on the original object.\n",
      "\n",
      "\n",
      "  for col in num_cols: X[col].fillna(X[col].mode()[0], inplace=True)\n",
      "/usr/local/lib/python3.11/dist-packages/transtab/dataset.py:196: FutureWarning: A value is trying to be set on a copy of a DataFrame or Series through chained assignment using an inplace method.\n",
      "The behavior will change in pandas 3.0. This inplace method will never work because the intermediate object on which we are setting values always behaves as a copy.\n",
      "\n",
      "For example, when doing 'df[col].method(value, inplace=True)', try using 'df.method({col: value}, inplace=True)' or df[col] = df[col].method(value) instead, to perform the operation inplace on the original object.\n",
      "\n",
      "\n",
      "  for col in num_cols: X[col].fillna(X[col].mode()[0], inplace=True)\n",
      "/usr/local/lib/python3.11/dist-packages/transtab/dataset.py:196: FutureWarning: A value is trying to be set on a copy of a DataFrame or Series through chained assignment using an inplace method.\n",
      "The behavior will change in pandas 3.0. This inplace method will never work because the intermediate object on which we are setting values always behaves as a copy.\n",
      "\n",
      "For example, when doing 'df[col].method(value, inplace=True)', try using 'df.method({col: value}, inplace=True)' or df[col] = df[col].method(value) instead, to perform the operation inplace on the original object.\n",
      "\n",
      "\n",
      "  for col in num_cols: X[col].fillna(X[col].mode()[0], inplace=True)\n",
      "/usr/local/lib/python3.11/dist-packages/transtab/dataset.py:196: FutureWarning: A value is trying to be set on a copy of a DataFrame or Series through chained assignment using an inplace method.\n",
      "The behavior will change in pandas 3.0. This inplace method will never work because the intermediate object on which we are setting values always behaves as a copy.\n",
      "\n",
      "For example, when doing 'df[col].method(value, inplace=True)', try using 'df.method({col: value}, inplace=True)' or df[col] = df[col].method(value) instead, to perform the operation inplace on the original object.\n",
      "\n",
      "\n",
      "  for col in num_cols: X[col].fillna(X[col].mode()[0], inplace=True)\n",
      "/usr/local/lib/python3.11/dist-packages/transtab/dataset.py:196: FutureWarning: A value is trying to be set on a copy of a DataFrame or Series through chained assignment using an inplace method.\n",
      "The behavior will change in pandas 3.0. This inplace method will never work because the intermediate object on which we are setting values always behaves as a copy.\n",
      "\n",
      "For example, when doing 'df[col].method(value, inplace=True)', try using 'df.method({col: value}, inplace=True)' or df[col] = df[col].method(value) instead, to perform the operation inplace on the original object.\n",
      "\n",
      "\n",
      "  for col in num_cols: X[col].fillna(X[col].mode()[0], inplace=True)\n",
      "/usr/local/lib/python3.11/dist-packages/transtab/dataset.py:196: FutureWarning: A value is trying to be set on a copy of a DataFrame or Series through chained assignment using an inplace method.\n",
      "The behavior will change in pandas 3.0. This inplace method will never work because the intermediate object on which we are setting values always behaves as a copy.\n",
      "\n",
      "For example, when doing 'df[col].method(value, inplace=True)', try using 'df.method({col: value}, inplace=True)' or df[col] = df[col].method(value) instead, to perform the operation inplace on the original object.\n",
      "\n",
      "\n",
      "  for col in num_cols: X[col].fillna(X[col].mode()[0], inplace=True)\n",
      "/usr/local/lib/python3.11/dist-packages/transtab/dataset.py:200: FutureWarning: A value is trying to be set on a copy of a DataFrame or Series through chained assignment using an inplace method.\n",
      "The behavior will change in pandas 3.0. This inplace method will never work because the intermediate object on which we are setting values always behaves as a copy.\n",
      "\n",
      "For example, when doing 'df[col].method(value, inplace=True)', try using 'df.method({col: value}, inplace=True)' or df[col] = df[col].method(value) instead, to perform the operation inplace on the original object.\n",
      "\n",
      "\n",
      "  for col in cat_cols: X[col].fillna(X[col].mode()[0], inplace=True)\n"
     ]
    },
    {
     "name": "stdout",
     "output_type": "stream",
     "text": [
      "# data: 750000, # feat: 8, # cate: 2,  # bin: 0, # numerical: 6, pos rate: 0.15\n"
     ]
    }
   ],
   "source": [
    "allset, trainset, valset, testset, cat_cols, num_cols, bin_cols = transtab.load_data('dataset')"
   ]
  },
  {
   "cell_type": "code",
   "execution_count": null,
   "metadata": {
    "execution": {
     "iopub.execute_input": "2025-06-06T18:12:56.711063Z",
     "iopub.status.busy": "2025-06-06T18:12:56.710595Z",
     "iopub.status.idle": "2025-06-06T18:12:56.721519Z",
     "shell.execute_reply": "2025-06-06T18:12:56.720700Z",
     "shell.execute_reply.started": "2025-06-06T18:12:56.711044Z"
    },
    "trusted": true
   },
   "outputs": [
    {
     "data": {
      "text/plain": [
       "(        temperature  humidity  moisture  nitrogen  potassium  phosphorous  \\\n",
       " 0          0.923077  0.909091     0.275  0.842105   0.210526     0.119048   \n",
       " 1          0.153846  0.863636     1.000  0.684211   0.315789     0.428571   \n",
       " 2          0.307692  0.590909     0.175  0.526316   0.631579     0.380952   \n",
       " 3          0.769231  0.545455     0.725  0.921053   0.631579     0.095238   \n",
       " 4          0.769231  0.363636     0.450  0.868421   0.105263     0.380952   \n",
       " ...             ...       ...       ...       ...        ...          ...   \n",
       " 749995     0.000000  0.863636     0.125  0.105263   0.842105     0.142857   \n",
       " 749996     0.923077  0.636364     0.825  0.894737   0.421053     0.476190   \n",
       " 749997     0.769231  0.818182     0.850  0.052632   0.578947     0.690476   \n",
       " 749998     0.461538  0.818182     0.100  0.131579   0.578947     0.285714   \n",
       " 749999     0.615385  0.227273     0.100  0.000000   0.526316     0.214286   \n",
       " \n",
       "        soil type    crop type  \n",
       " 0         Clayey    Sugarcane  \n",
       " 1          Sandy      Millets  \n",
       " 2          Sandy      Millets  \n",
       " 3          Sandy       Barley  \n",
       " 4            Red        Paddy  \n",
       " ...          ...          ...  \n",
       " 749995    Clayey        Maize  \n",
       " 749996     Loamy    Sugarcane  \n",
       " 749997     Sandy  Ground Nuts  \n",
       " 749998       Red       Cotton  \n",
       " 749999     Loamy       Cotton  \n",
       " \n",
       " [750000 rows x 8 columns],\n",
       " 0         0\n",
       " 1         0\n",
       " 2         1\n",
       " 3         2\n",
       " 4         3\n",
       "          ..\n",
       " 749995    0\n",
       " 749996    1\n",
       " 749997    2\n",
       " 749998    4\n",
       " 749999    6\n",
       " Name: target_label, Length: 750000, dtype: int64)"
      ]
     },
     "execution_count": 14,
     "metadata": {},
     "output_type": "execute_result"
    }
   ],
   "source": [
    "allset"
   ]
  },
  {
   "cell_type": "code",
   "execution_count": null,
   "metadata": {
    "execution": {
     "iopub.execute_input": "2025-06-06T18:12:56.722783Z",
     "iopub.status.busy": "2025-06-06T18:12:56.722510Z",
     "iopub.status.idle": "2025-06-06T18:12:56.736327Z",
     "shell.execute_reply": "2025-06-06T18:12:56.735678Z",
     "shell.execute_reply.started": "2025-06-06T18:12:56.722767Z"
    },
    "trusted": true
   },
   "outputs": [
    {
     "data": {
      "text/plain": [
       "(        temperature  humidity  moisture  nitrogen  potassium  phosphorous  \\\n",
       " 232315     0.923077  0.000000     0.075  0.500000   0.789474     0.166667   \n",
       " 615203     0.692308  0.318182     0.350  0.631579   0.842105     1.000000   \n",
       " 496201     0.538462  0.818182     0.675  0.789474   0.000000     0.095238   \n",
       " 153284     1.000000  0.272727     0.500  0.973684   0.105263     0.976190   \n",
       " 454722     0.153846  1.000000     0.325  0.184211   0.578947     0.380952   \n",
       " ...             ...       ...       ...       ...        ...          ...   \n",
       " 517357     0.461538  0.500000     1.000  0.763158   0.105263     0.523810   \n",
       " 359417     0.846154  0.545455     0.275  0.447368   0.578947     0.476190   \n",
       " 701170     0.000000  0.136364     0.600  0.973684   0.000000     0.071429   \n",
       " 245639     0.076923  0.090909     0.175  0.921053   0.578947     0.500000   \n",
       " 654656     0.846154  0.090909     0.950  0.684211   0.368421     0.380952   \n",
       " \n",
       "        soil type    crop type  \n",
       " 232315     Sandy        Paddy  \n",
       " 615203     Sandy        Paddy  \n",
       " 496201     Sandy       Cotton  \n",
       " 153284     Black      Millets  \n",
       " 454722     Loamy  Ground Nuts  \n",
       " ...          ...          ...  \n",
       " 517357     Black    Sugarcane  \n",
       " 359417    Clayey        Paddy  \n",
       " 701170     Loamy        Maize  \n",
       " 245639     Loamy    Sugarcane  \n",
       " 654656       Red  Ground Nuts  \n",
       " \n",
       " [525000 rows x 8 columns],\n",
       " 232315    3\n",
       " 615203    5\n",
       " 496201    1\n",
       " 153284    4\n",
       " 454722    4\n",
       "          ..\n",
       " 517357    5\n",
       " 359417    6\n",
       " 701170    2\n",
       " 245639    5\n",
       " 654656    6\n",
       " Name: target_label, Length: 525000, dtype: int64)"
      ]
     },
     "execution_count": 15,
     "metadata": {},
     "output_type": "execute_result"
    }
   ],
   "source": [
    "trainset"
   ]
  },
  {
   "cell_type": "code",
   "execution_count": null,
   "metadata": {
    "execution": {
     "iopub.execute_input": "2025-06-06T18:12:56.737253Z",
     "iopub.status.busy": "2025-06-06T18:12:56.737056Z",
     "iopub.status.idle": "2025-06-06T18:12:56.750233Z",
     "shell.execute_reply": "2025-06-06T18:12:56.749697Z",
     "shell.execute_reply.started": "2025-06-06T18:12:56.737238Z"
    },
    "trusted": true
   },
   "outputs": [
    {
     "data": {
      "text/plain": [
       "(        temperature  humidity  moisture  nitrogen  potassium  phosphorous  \\\n",
       " 649954     0.230769  0.181818     0.350  0.078947   0.000000     0.357143   \n",
       " 652761     0.846154  0.636364     0.975  0.947368   1.000000     0.595238   \n",
       " 36486      0.615385  0.590909     0.050  0.263158   0.684211     0.928571   \n",
       " 245041     0.307692  0.909091     0.750  0.736842   0.368421     0.976190   \n",
       " 683982     0.384615  0.000000     0.225  0.105263   0.157895     0.333333   \n",
       " ...             ...       ...       ...       ...        ...          ...   \n",
       " 463704     0.461538  0.818182     0.025  0.842105   0.421053     0.714286   \n",
       " 161514     0.076923  1.000000     0.575  0.000000   0.263158     0.380952   \n",
       " 615908     0.000000  0.636364     0.500  0.342105   0.789474     0.404762   \n",
       " 570013     0.076923  0.318182     0.325  0.421053   0.368421     0.095238   \n",
       " 452317     0.076923  0.636364     0.850  0.973684   0.315789     0.476190   \n",
       " \n",
       "        soil type  crop type  \n",
       " 649954     Black      Paddy  \n",
       " 652761     Sandy      Paddy  \n",
       " 36486      Sandy     Pulses  \n",
       " 245041       Red      Wheat  \n",
       " 683982       Red  Sugarcane  \n",
       " ...          ...        ...  \n",
       " 463704       Red     Cotton  \n",
       " 161514       Red     Barley  \n",
       " 615908    Clayey     Barley  \n",
       " 570013     Black      Paddy  \n",
       " 452317    Clayey     Barley  \n",
       " \n",
       " [75000 rows x 8 columns],\n",
       " 649954    3\n",
       " 652761    4\n",
       " 36486     2\n",
       " 245041    4\n",
       " 683982    5\n",
       "          ..\n",
       " 463704    0\n",
       " 161514    2\n",
       " 615908    6\n",
       " 570013    6\n",
       " 452317    4\n",
       " Name: target_label, Length: 75000, dtype: int64)"
      ]
     },
     "execution_count": 16,
     "metadata": {},
     "output_type": "execute_result"
    }
   ],
   "source": [
    "valset"
   ]
  },
  {
   "cell_type": "code",
   "execution_count": null,
   "metadata": {
    "execution": {
     "iopub.execute_input": "2025-06-06T18:12:56.751114Z",
     "iopub.status.busy": "2025-06-06T18:12:56.750921Z",
     "iopub.status.idle": "2025-06-06T18:12:56.764079Z",
     "shell.execute_reply": "2025-06-06T18:12:56.763499Z",
     "shell.execute_reply.started": "2025-06-06T18:12:56.751101Z"
    },
    "trusted": true
   },
   "outputs": [
    {
     "data": {
      "text/plain": [
       "(        temperature  humidity  moisture  nitrogen  potassium  phosphorous  \\\n",
       " 55986      0.307692  0.727273     0.650  0.578947   0.421053     0.547619   \n",
       " 119937     0.000000  0.090909     0.450  0.631579   0.631579     0.666667   \n",
       " 673769     0.461538  1.000000     0.200  0.684211   0.421053     0.476190   \n",
       " 6325       0.692308  0.090909     1.000  0.236842   0.473684     0.690476   \n",
       " 483018     0.692308  0.181818     0.625  0.289474   0.736842     0.928571   \n",
       " ...             ...       ...       ...       ...        ...          ...   \n",
       " 370547     0.307692  0.954545     0.925  0.631579   0.315789     0.190476   \n",
       " 277877     0.923077  0.500000     0.675  0.026316   0.000000     0.476190   \n",
       " 304055     0.538462  0.818182     0.375  0.842105   0.263158     0.404762   \n",
       " 701494     0.923077  0.000000     0.600  0.552632   0.105263     0.738095   \n",
       " 88031      0.000000  0.681818     0.025  0.500000   0.263158     0.738095   \n",
       " \n",
       "        soil type    crop type  \n",
       " 55986      Loamy       Pulses  \n",
       " 119937     Black       Cotton  \n",
       " 673769     Black        Maize  \n",
       " 6325         Red        Maize  \n",
       " 483018     Sandy        Wheat  \n",
       " ...          ...          ...  \n",
       " 370547    Clayey        Paddy  \n",
       " 277877     Black       Cotton  \n",
       " 304055       Red      Millets  \n",
       " 701494     Loamy      Millets  \n",
       " 88031        Red  Ground Nuts  \n",
       " \n",
       " [150000 rows x 8 columns],\n",
       " 55986     5\n",
       " 119937    5\n",
       " 673769    1\n",
       " 6325      2\n",
       " 483018    3\n",
       "          ..\n",
       " 370547    5\n",
       " 277877    3\n",
       " 304055    1\n",
       " 701494    5\n",
       " 88031     1\n",
       " Name: target_label, Length: 150000, dtype: int64)"
      ]
     },
     "execution_count": 17,
     "metadata": {},
     "output_type": "execute_result"
    }
   ],
   "source": [
    "testset"
   ]
  },
  {
   "cell_type": "code",
   "execution_count": null,
   "metadata": {
    "execution": {
     "iopub.execute_input": "2025-06-06T18:12:56.765021Z",
     "iopub.status.busy": "2025-06-06T18:12:56.764806Z",
     "iopub.status.idle": "2025-06-06T18:12:56.774499Z",
     "shell.execute_reply": "2025-06-06T18:12:56.773876Z",
     "shell.execute_reply.started": "2025-06-06T18:12:56.765007Z"
    },
    "trusted": true
   },
   "outputs": [
    {
     "data": {
      "text/plain": [
       "['soil type', 'crop type']"
      ]
     },
     "execution_count": 18,
     "metadata": {},
     "output_type": "execute_result"
    }
   ],
   "source": [
    "cat_cols"
   ]
  },
  {
   "cell_type": "code",
   "execution_count": null,
   "metadata": {
    "execution": {
     "iopub.execute_input": "2025-06-06T18:12:56.775450Z",
     "iopub.status.busy": "2025-06-06T18:12:56.775249Z",
     "iopub.status.idle": "2025-06-06T18:12:56.785882Z",
     "shell.execute_reply": "2025-06-06T18:12:56.785333Z",
     "shell.execute_reply.started": "2025-06-06T18:12:56.775429Z"
    },
    "trusted": true
   },
   "outputs": [
    {
     "data": {
      "text/plain": [
       "['temperature', 'humidity', 'moisture', 'nitrogen', 'potassium', 'phosphorous']"
      ]
     },
     "execution_count": 19,
     "metadata": {},
     "output_type": "execute_result"
    }
   ],
   "source": [
    "num_cols"
   ]
  },
  {
   "cell_type": "code",
   "execution_count": null,
   "metadata": {
    "execution": {
     "iopub.execute_input": "2025-06-06T18:12:56.786750Z",
     "iopub.status.busy": "2025-06-06T18:12:56.786522Z",
     "iopub.status.idle": "2025-06-06T18:12:56.795656Z",
     "shell.execute_reply": "2025-06-06T18:12:56.795058Z",
     "shell.execute_reply.started": "2025-06-06T18:12:56.786727Z"
    },
    "trusted": true
   },
   "outputs": [
    {
     "data": {
      "text/plain": [
       "[]"
      ]
     },
     "execution_count": 20,
     "metadata": {},
     "output_type": "execute_result"
    }
   ],
   "source": [
    "bin_cols"
   ]
  },
  {
   "cell_type": "markdown",
   "metadata": {},
   "source": [
    "原始程式對整筆資料 fit 正規化（不是只 fit 訓練集），但整筆資料的最大最小值，跟訓練集的最大最小值好像一樣？"
   ]
  },
  {
   "cell_type": "code",
   "execution_count": null,
   "metadata": {
    "execution": {
     "iopub.execute_input": "2025-06-06T18:12:56.796468Z",
     "iopub.status.busy": "2025-06-06T18:12:56.796288Z",
     "iopub.status.idle": "2025-06-06T18:12:57.173390Z",
     "shell.execute_reply": "2025-06-06T18:12:57.172658Z",
     "shell.execute_reply.started": "2025-06-06T18:12:56.796454Z"
    },
    "trusted": true
   },
   "outputs": [
    {
     "data": {
      "text/html": [
       "<div>\n",
       "<style scoped>\n",
       "    .dataframe tbody tr th:only-of-type {\n",
       "        vertical-align: middle;\n",
       "    }\n",
       "\n",
       "    .dataframe tbody tr th {\n",
       "        vertical-align: top;\n",
       "    }\n",
       "\n",
       "    .dataframe thead th {\n",
       "        text-align: right;\n",
       "    }\n",
       "</style>\n",
       "<table border=\"1\" class=\"dataframe\">\n",
       "  <thead>\n",
       "    <tr style=\"text-align: right;\">\n",
       "      <th></th>\n",
       "      <th>count</th>\n",
       "      <th>mean</th>\n",
       "      <th>std</th>\n",
       "      <th>min</th>\n",
       "      <th>25%</th>\n",
       "      <th>50%</th>\n",
       "      <th>75%</th>\n",
       "      <th>max</th>\n",
       "    </tr>\n",
       "  </thead>\n",
       "  <tbody>\n",
       "    <tr>\n",
       "      <th>Temperature</th>\n",
       "      <td>750000.0</td>\n",
       "      <td>31.503565</td>\n",
       "      <td>4.025574</td>\n",
       "      <td>25.0</td>\n",
       "      <td>28.0</td>\n",
       "      <td>32.0</td>\n",
       "      <td>35.0</td>\n",
       "      <td>38.0</td>\n",
       "    </tr>\n",
       "    <tr>\n",
       "      <th>Humidity</th>\n",
       "      <td>750000.0</td>\n",
       "      <td>61.038912</td>\n",
       "      <td>6.647695</td>\n",
       "      <td>50.0</td>\n",
       "      <td>55.0</td>\n",
       "      <td>61.0</td>\n",
       "      <td>67.0</td>\n",
       "      <td>72.0</td>\n",
       "    </tr>\n",
       "    <tr>\n",
       "      <th>Moisture</th>\n",
       "      <td>750000.0</td>\n",
       "      <td>45.184147</td>\n",
       "      <td>11.794594</td>\n",
       "      <td>25.0</td>\n",
       "      <td>35.0</td>\n",
       "      <td>45.0</td>\n",
       "      <td>55.0</td>\n",
       "      <td>65.0</td>\n",
       "    </tr>\n",
       "    <tr>\n",
       "      <th>Nitrogen</th>\n",
       "      <td>750000.0</td>\n",
       "      <td>23.093808</td>\n",
       "      <td>11.216125</td>\n",
       "      <td>4.0</td>\n",
       "      <td>13.0</td>\n",
       "      <td>23.0</td>\n",
       "      <td>33.0</td>\n",
       "      <td>42.0</td>\n",
       "    </tr>\n",
       "    <tr>\n",
       "      <th>Potassium</th>\n",
       "      <td>750000.0</td>\n",
       "      <td>9.478296</td>\n",
       "      <td>5.765622</td>\n",
       "      <td>0.0</td>\n",
       "      <td>4.0</td>\n",
       "      <td>9.0</td>\n",
       "      <td>14.0</td>\n",
       "      <td>19.0</td>\n",
       "    </tr>\n",
       "    <tr>\n",
       "      <th>Phosphorous</th>\n",
       "      <td>750000.0</td>\n",
       "      <td>21.073227</td>\n",
       "      <td>12.346831</td>\n",
       "      <td>0.0</td>\n",
       "      <td>10.0</td>\n",
       "      <td>21.0</td>\n",
       "      <td>32.0</td>\n",
       "      <td>42.0</td>\n",
       "    </tr>\n",
       "    <tr>\n",
       "      <th>target_label</th>\n",
       "      <td>750000.0</td>\n",
       "      <td>2.925927</td>\n",
       "      <td>1.986453</td>\n",
       "      <td>0.0</td>\n",
       "      <td>1.0</td>\n",
       "      <td>3.0</td>\n",
       "      <td>5.0</td>\n",
       "      <td>6.0</td>\n",
       "    </tr>\n",
       "  </tbody>\n",
       "</table>\n",
       "</div>"
      ],
      "text/plain": [
       "                 count       mean        std   min   25%   50%   75%   max\n",
       "Temperature   750000.0  31.503565   4.025574  25.0  28.0  32.0  35.0  38.0\n",
       "Humidity      750000.0  61.038912   6.647695  50.0  55.0  61.0  67.0  72.0\n",
       "Moisture      750000.0  45.184147  11.794594  25.0  35.0  45.0  55.0  65.0\n",
       "Nitrogen      750000.0  23.093808  11.216125   4.0  13.0  23.0  33.0  42.0\n",
       "Potassium     750000.0   9.478296   5.765622   0.0   4.0   9.0  14.0  19.0\n",
       "Phosphorous   750000.0  21.073227  12.346831   0.0  10.0  21.0  32.0  42.0\n",
       "target_label  750000.0   2.925927   1.986453   0.0   1.0   3.0   5.0   6.0"
      ]
     },
     "metadata": {},
     "output_type": "display_data"
    },
    {
     "data": {
      "text/html": [
       "<div>\n",
       "<style scoped>\n",
       "    .dataframe tbody tr th:only-of-type {\n",
       "        vertical-align: middle;\n",
       "    }\n",
       "\n",
       "    .dataframe tbody tr th {\n",
       "        vertical-align: top;\n",
       "    }\n",
       "\n",
       "    .dataframe thead th {\n",
       "        text-align: right;\n",
       "    }\n",
       "</style>\n",
       "<table border=\"1\" class=\"dataframe\">\n",
       "  <thead>\n",
       "    <tr style=\"text-align: right;\">\n",
       "      <th></th>\n",
       "      <th>count</th>\n",
       "      <th>mean</th>\n",
       "      <th>std</th>\n",
       "      <th>min</th>\n",
       "      <th>25%</th>\n",
       "      <th>50%</th>\n",
       "      <th>75%</th>\n",
       "      <th>max</th>\n",
       "    </tr>\n",
       "  </thead>\n",
       "  <tbody>\n",
       "    <tr>\n",
       "      <th>Temperature</th>\n",
       "      <td>525000.0</td>\n",
       "      <td>31.507699</td>\n",
       "      <td>4.023489</td>\n",
       "      <td>25.0</td>\n",
       "      <td>28.0</td>\n",
       "      <td>32.0</td>\n",
       "      <td>35.0</td>\n",
       "      <td>38.0</td>\n",
       "    </tr>\n",
       "    <tr>\n",
       "      <th>Humidity</th>\n",
       "      <td>525000.0</td>\n",
       "      <td>61.039910</td>\n",
       "      <td>6.649110</td>\n",
       "      <td>50.0</td>\n",
       "      <td>55.0</td>\n",
       "      <td>61.0</td>\n",
       "      <td>67.0</td>\n",
       "      <td>72.0</td>\n",
       "    </tr>\n",
       "    <tr>\n",
       "      <th>Moisture</th>\n",
       "      <td>525000.0</td>\n",
       "      <td>45.192082</td>\n",
       "      <td>11.789551</td>\n",
       "      <td>25.0</td>\n",
       "      <td>35.0</td>\n",
       "      <td>45.0</td>\n",
       "      <td>55.0</td>\n",
       "      <td>65.0</td>\n",
       "    </tr>\n",
       "    <tr>\n",
       "      <th>Nitrogen</th>\n",
       "      <td>525000.0</td>\n",
       "      <td>23.085533</td>\n",
       "      <td>11.218295</td>\n",
       "      <td>4.0</td>\n",
       "      <td>13.0</td>\n",
       "      <td>23.0</td>\n",
       "      <td>33.0</td>\n",
       "      <td>42.0</td>\n",
       "    </tr>\n",
       "    <tr>\n",
       "      <th>Potassium</th>\n",
       "      <td>525000.0</td>\n",
       "      <td>9.484771</td>\n",
       "      <td>5.766820</td>\n",
       "      <td>0.0</td>\n",
       "      <td>4.0</td>\n",
       "      <td>9.0</td>\n",
       "      <td>14.0</td>\n",
       "      <td>19.0</td>\n",
       "    </tr>\n",
       "    <tr>\n",
       "      <th>Phosphorous</th>\n",
       "      <td>525000.0</td>\n",
       "      <td>21.064789</td>\n",
       "      <td>12.346524</td>\n",
       "      <td>0.0</td>\n",
       "      <td>10.0</td>\n",
       "      <td>21.0</td>\n",
       "      <td>32.0</td>\n",
       "      <td>42.0</td>\n",
       "    </tr>\n",
       "    <tr>\n",
       "      <th>target_label</th>\n",
       "      <td>525000.0</td>\n",
       "      <td>2.924463</td>\n",
       "      <td>1.986088</td>\n",
       "      <td>0.0</td>\n",
       "      <td>1.0</td>\n",
       "      <td>3.0</td>\n",
       "      <td>5.0</td>\n",
       "      <td>6.0</td>\n",
       "    </tr>\n",
       "  </tbody>\n",
       "</table>\n",
       "</div>"
      ],
      "text/plain": [
       "                 count       mean        std   min   25%   50%   75%   max\n",
       "Temperature   525000.0  31.507699   4.023489  25.0  28.0  32.0  35.0  38.0\n",
       "Humidity      525000.0  61.039910   6.649110  50.0  55.0  61.0  67.0  72.0\n",
       "Moisture      525000.0  45.192082  11.789551  25.0  35.0  45.0  55.0  65.0\n",
       "Nitrogen      525000.0  23.085533  11.218295   4.0  13.0  23.0  33.0  42.0\n",
       "Potassium     525000.0   9.484771   5.766820   0.0   4.0   9.0  14.0  19.0\n",
       "Phosphorous   525000.0  21.064789  12.346524   0.0  10.0  21.0  32.0  42.0\n",
       "target_label  525000.0   2.924463   1.986088   0.0   1.0   3.0   5.0   6.0"
      ]
     },
     "metadata": {},
     "output_type": "display_data"
    }
   ],
   "source": [
    "display(df.describe().T)\n",
    "display(df.iloc[trainset[0].index].describe().T)"
   ]
  },
  {
   "cell_type": "code",
   "execution_count": null,
   "metadata": {
    "execution": {
     "iopub.execute_input": "2025-06-06T18:14:48.692704Z",
     "iopub.status.busy": "2025-06-06T18:14:48.692118Z",
     "iopub.status.idle": "2025-06-06T18:14:48.807052Z",
     "shell.execute_reply": "2025-06-06T18:14:48.806295Z",
     "shell.execute_reply.started": "2025-06-06T18:14:48.692685Z"
    },
    "trusted": true
   },
   "outputs": [
    {
     "name": "stderr",
     "output_type": "stream",
     "text": [
      "/usr/local/lib/python3.11/dist-packages/torch/nn/modules/transformer.py:385: UserWarning: enable_nested_tensor is True, but self.use_nested_tensor is False because encoder_layer was not TransformerEncoderLayer\n",
      "  warnings.warn(\n"
     ]
    }
   ],
   "source": [
    "model = transtab.build_classifier(cat_cols, num_cols, bin_cols, num_class=7)"
   ]
  },
  {
   "cell_type": "code",
   "execution_count": null,
   "metadata": {
    "execution": {
     "iopub.execute_input": "2025-06-06T18:14:50.348543Z",
     "iopub.status.busy": "2025-06-06T18:14:50.348101Z",
     "iopub.status.idle": "2025-06-06T18:14:50.352231Z",
     "shell.execute_reply": "2025-06-06T18:14:50.351518Z",
     "shell.execute_reply.started": "2025-06-06T18:14:50.348521Z"
    },
    "trusted": true
   },
   "outputs": [],
   "source": [
    "training_arguments = {\n",
    "    'num_epoch': 5,\n",
    "    'batch_size': 128,\n",
    "    'lr': 1e-4,\n",
    "    'eval_metric': 'val_loss',\n",
    "    'eval_less_is_better': True,\n",
    "    'output_dir': 'checkpoint'\n",
    "}"
   ]
  },
  {
   "cell_type": "code",
   "execution_count": null,
   "metadata": {
    "execution": {
     "iopub.execute_input": "2025-06-06T18:14:51.788541Z",
     "iopub.status.busy": "2025-06-06T18:14:51.787933Z",
     "iopub.status.idle": "2025-06-06T18:28:46.579569Z",
     "shell.execute_reply": "2025-06-06T18:28:46.579039Z",
     "shell.execute_reply.started": "2025-06-06T18:14:51.788518Z"
    },
    "trusted": true
   },
   "outputs": [
    {
     "data": {
      "application/vnd.jupyter.widget-view+json": {
       "model_id": "2d81cca7da604f28a258ffead558e296",
       "version_major": 2,
       "version_minor": 0
      },
      "text/plain": [
       "Epoch:   0%|          | 0/5 [00:00<?, ?it/s]"
      ]
     },
     "metadata": {},
     "output_type": "display_data"
    },
    {
     "name": "stdout",
     "output_type": "stream",
     "text": [
      "epoch: 0, test val_loss: 1.941690\n",
      "epoch: 0, train loss: 7970.4616, lr: 0.000100, spent: 166.1 secs\n",
      "epoch: 1, test val_loss: 1.940066\n",
      "epoch: 1, train loss: 7963.2048, lr: 0.000100, spent: 332.5 secs\n",
      "epoch: 2, test val_loss: 1.940549\n",
      "EarlyStopping counter: 1 out of 5\n",
      "epoch: 2, train loss: 7960.1181, lr: 0.000100, spent: 498.9 secs\n",
      "epoch: 3, test val_loss: 1.940235\n",
      "EarlyStopping counter: 2 out of 5\n",
      "epoch: 3, train loss: 7958.2939, lr: 0.000100, spent: 665.9 secs\n",
      "epoch: 4, test val_loss: 1.939438\n",
      "epoch: 4, train loss: 7956.4893, lr: 0.000100, spent: 834.5 secs\n"
     ]
    }
   ],
   "source": [
    "transtab.train(model, trainset, valset, **training_arguments)"
   ]
  },
  {
   "cell_type": "code",
   "execution_count": null,
   "metadata": {
    "execution": {
     "iopub.execute_input": "2025-06-06T18:29:33.107841Z",
     "iopub.status.busy": "2025-06-06T18:29:33.106926Z",
     "iopub.status.idle": "2025-06-06T18:29:43.714132Z",
     "shell.execute_reply": "2025-06-06T18:29:43.713357Z",
     "shell.execute_reply.started": "2025-06-06T18:29:33.107814Z"
    },
    "trusted": true
   },
   "outputs": [],
   "source": [
    "x_test, y_test = testset\n",
    "ypred = transtab.predict(model, x_test)"
   ]
  },
  {
   "cell_type": "code",
   "execution_count": null,
   "metadata": {
    "execution": {
     "iopub.execute_input": "2025-06-06T18:32:56.064282Z",
     "iopub.status.busy": "2025-06-06T18:32:56.063556Z",
     "iopub.status.idle": "2025-06-06T18:32:56.069525Z",
     "shell.execute_reply": "2025-06-06T18:32:56.068969Z",
     "shell.execute_reply.started": "2025-06-06T18:32:56.064250Z"
    },
    "trusted": true
   },
   "outputs": [
    {
     "data": {
      "text/plain": [
       "array([[0.13425356, 0.1802547 , 0.13932763, ..., 0.16447428, 0.1912974 ,\n",
       "        0.10329986],\n",
       "       [0.13868578, 0.15089263, 0.14666754, ..., 0.14846067, 0.1484395 ,\n",
       "        0.12862648],\n",
       "       [0.1461783 , 0.13770485, 0.1477238 , ..., 0.14621718, 0.15253861,\n",
       "        0.13506508],\n",
       "       ...,\n",
       "       [0.14488734, 0.14354198, 0.12959526, ..., 0.15110849, 0.15568137,\n",
       "        0.14893013],\n",
       "       [0.14953233, 0.14832339, 0.14204223, ..., 0.15384017, 0.16778877,\n",
       "        0.12410065],\n",
       "       [0.15019995, 0.16445346, 0.14682887, ..., 0.15015455, 0.1577946 ,\n",
       "        0.11673623]], dtype=float32)"
      ]
     },
     "execution_count": 42,
     "metadata": {},
     "output_type": "execute_result"
    }
   ],
   "source": [
    "ypred"
   ]
  },
  {
   "cell_type": "code",
   "execution_count": null,
   "metadata": {
    "execution": {
     "iopub.execute_input": "2025-06-06T18:33:05.498006Z",
     "iopub.status.busy": "2025-06-06T18:33:05.497430Z",
     "iopub.status.idle": "2025-06-06T18:33:05.507221Z",
     "shell.execute_reply": "2025-06-06T18:33:05.506693Z",
     "shell.execute_reply.started": "2025-06-06T18:33:05.497984Z"
    },
    "trusted": true
   },
   "outputs": [
    {
     "data": {
      "text/plain": [
       "array([5, 1, 5, ..., 5, 5, 1])"
      ]
     },
     "execution_count": 43,
     "metadata": {},
     "output_type": "execute_result"
    }
   ],
   "source": [
    "ypred.argmax(1)"
   ]
  },
  {
   "cell_type": "code",
   "execution_count": null,
   "metadata": {
    "execution": {
     "iopub.execute_input": "2025-06-06T18:32:16.633990Z",
     "iopub.status.busy": "2025-06-06T18:32:16.633729Z",
     "iopub.status.idle": "2025-06-06T18:32:16.649545Z",
     "shell.execute_reply": "2025-06-06T18:32:16.648936Z",
     "shell.execute_reply.started": "2025-06-06T18:32:16.633970Z"
    },
    "trusted": true
   },
   "outputs": [
    {
     "data": {
      "text/plain": [
       "[0.16038666666666668]"
      ]
     },
     "execution_count": 35,
     "metadata": {},
     "output_type": "execute_result"
    }
   ],
   "source": [
    "transtab.evaluate(ypred, y_test, metric='acc')"
   ]
  },
  {
   "cell_type": "code",
   "execution_count": 1,
   "metadata": {},
   "outputs": [
    {
     "name": "stderr",
     "output_type": "stream",
     "text": [
      "/home/evan/miniconda3/envs/Transtab/lib/python3.12/site-packages/tqdm/auto.py:21: TqdmWarning: IProgress not found. Please update jupyter and ipywidgets. See https://ipywidgets.readthedocs.io/en/stable/user_install.html\n",
      "  from .autonotebook import tqdm as notebook_tqdm\n",
      "/home/evan/miniconda3/envs/Transtab/lib/python3.12/site-packages/huggingface_hub/file_download.py:980: UserWarning: `local_dir_use_symlinks` parameter is deprecated and will be ignored. The process to download files to a local folder has been updated and do not rely on symlinks anymore. You only need to pass a destination folder as`local_dir`.\n",
      "For more details, check out https://huggingface.co/docs/huggingface_hub/main/en/guides/download#download-files-to-local-folder.\n",
      "  warnings.warn(\n",
      "Fetching 12 files: 100%|██████████| 12/12 [00:15<00:00,  1.33s/it]\n"
     ]
    },
    {
     "data": {
      "text/plain": [
       "'/mnt/HDD5/evan/GF/Data_mining/FinalProject/clip-vit-base-patch32'"
      ]
     },
     "execution_count": 1,
     "metadata": {},
     "output_type": "execute_result"
    }
   ],
   "source": [
    "from huggingface_hub import snapshot_download\n",
    "\n",
    "snapshot_download(\n",
    "    repo_id=\"openai/clip-vit-base-patch32\",\n",
    "    local_dir=\"./clip-vit-base-patch32\",\n",
    "    local_dir_use_symlinks=False\n",
    ")"
   ]
  }
 ],
 "metadata": {
  "kaggle": {
   "accelerator": "nvidiaTeslaT4",
   "dataSources": [
    {
     "databundleVersionId": 12184666,
     "sourceId": 91717,
     "sourceType": "competition"
    }
   ],
   "dockerImageVersionId": 31041,
   "isGpuEnabled": true,
   "isInternetEnabled": true,
   "language": "python",
   "sourceType": "notebook"
  },
  "kernelspec": {
   "display_name": "Transtab",
   "language": "python",
   "name": "python3"
  },
  "language_info": {
   "codemirror_mode": {
    "name": "ipython",
    "version": 3
   },
   "file_extension": ".py",
   "mimetype": "text/x-python",
   "name": "python",
   "nbconvert_exporter": "python",
   "pygments_lexer": "ipython3",
   "version": "3.12.2"
  }
 },
 "nbformat": 4,
 "nbformat_minor": 4
}
